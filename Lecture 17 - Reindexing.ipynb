{
 "cells": [
  {
   "cell_type": "code",
   "execution_count": 2,
   "metadata": {
    "collapsed": true
   },
   "outputs": [],
   "source": [
    "import numpy as np\n",
    "from pandas import Series, DataFrame\n",
    "import pandas as pd\n",
    "\n",
    "from numpy.random import randn"
   ]
  },
  {
   "cell_type": "code",
   "execution_count": 4,
   "metadata": {
    "collapsed": false
   },
   "outputs": [
    {
     "data": {
      "text/plain": [
       "A    1\n",
       "B    2\n",
       "C    3\n",
       "D    4\n",
       "dtype: int64"
      ]
     },
     "execution_count": 4,
     "metadata": {},
     "output_type": "execute_result"
    }
   ],
   "source": [
    "ser1 = Series([1,2,3,4], index = ['A','B','C','D'])\n",
    "\n",
    "ser1"
   ]
  },
  {
   "cell_type": "code",
   "execution_count": 5,
   "metadata": {
    "collapsed": false
   },
   "outputs": [
    {
     "data": {
      "text/plain": [
       "A     1\n",
       "B     2\n",
       "C     3\n",
       "D     4\n",
       "E   NaN\n",
       "F   NaN\n",
       "dtype: float64"
      ]
     },
     "execution_count": 5,
     "metadata": {},
     "output_type": "execute_result"
    }
   ],
   "source": [
    "ser2 = ser1.reindex(['A','B','C','D','E','F'])\n",
    "\n",
    "ser2"
   ]
  },
  {
   "cell_type": "code",
   "execution_count": 16,
   "metadata": {
    "collapsed": false
   },
   "outputs": [
    {
     "data": {
      "text/plain": [
       "A     1\n",
       "B     2\n",
       "C     3\n",
       "D     4\n",
       "E   NaN\n",
       "F   NaN\n",
       "G     0\n",
       "H     0\n",
       "dtype: float64"
      ]
     },
     "execution_count": 16,
     "metadata": {},
     "output_type": "execute_result"
    }
   ],
   "source": [
    "ser2.reindex(['A','B','C','D','E','F','G','H'],fill_value=0)"
   ]
  },
  {
   "cell_type": "code",
   "execution_count": 13,
   "metadata": {
    "collapsed": false
   },
   "outputs": [
    {
     "data": {
      "text/plain": [
       "0        USA\n",
       "5     Mexico\n",
       "10    Canada\n",
       "dtype: object"
      ]
     },
     "execution_count": 13,
     "metadata": {},
     "output_type": "execute_result"
    }
   ],
   "source": [
    "ser4 = Series(['USA','Mexico','Canada'],index=[0,5,10])\n",
    "\n",
    "ser4"
   ]
  },
  {
   "cell_type": "code",
   "execution_count": 14,
   "metadata": {
    "collapsed": false
   },
   "outputs": [
    {
     "data": {
      "text/plain": [
       "[0, 1, 2, 3, 4, 5, 6, 7, 8, 9, 10, 11, 12, 13, 14]"
      ]
     },
     "execution_count": 14,
     "metadata": {},
     "output_type": "execute_result"
    }
   ],
   "source": [
    "ranger = range(15)\n",
    "\n",
    "ranger"
   ]
  },
  {
   "cell_type": "code",
   "execution_count": 17,
   "metadata": {
    "collapsed": false
   },
   "outputs": [
    {
     "data": {
      "text/plain": [
       "0        USA\n",
       "1        USA\n",
       "2        USA\n",
       "3        USA\n",
       "4        USA\n",
       "5     Mexico\n",
       "6     Mexico\n",
       "7     Mexico\n",
       "8     Mexico\n",
       "9     Mexico\n",
       "10    Canada\n",
       "11    Canada\n",
       "12    Canada\n",
       "13    Canada\n",
       "14    Canada\n",
       "dtype: object"
      ]
     },
     "execution_count": 17,
     "metadata": {},
     "output_type": "execute_result"
    }
   ],
   "source": [
    "#add indexes and forward fill them\n",
    "ser4.reindex(ranger,method='ffill')"
   ]
  },
  {
   "cell_type": "code",
   "execution_count": 19,
   "metadata": {
    "collapsed": false,
    "scrolled": false
   },
   "outputs": [
    {
     "data": {
      "text/html": [
       "<div>\n",
       "<table border=\"1\" class=\"dataframe\">\n",
       "  <thead>\n",
       "    <tr style=\"text-align: right;\">\n",
       "      <th></th>\n",
       "      <th>col1</th>\n",
       "      <th>col2</th>\n",
       "      <th>col3</th>\n",
       "      <th>col4</th>\n",
       "      <th>col5</th>\n",
       "    </tr>\n",
       "  </thead>\n",
       "  <tbody>\n",
       "    <tr>\n",
       "      <th>A</th>\n",
       "      <td>0.256740</td>\n",
       "      <td>0.579655</td>\n",
       "      <td>0.480504</td>\n",
       "      <td>0.541105</td>\n",
       "      <td>2.378537</td>\n",
       "    </tr>\n",
       "    <tr>\n",
       "      <th>B</th>\n",
       "      <td>1.931108</td>\n",
       "      <td>-0.159406</td>\n",
       "      <td>-0.381850</td>\n",
       "      <td>-1.186075</td>\n",
       "      <td>-0.132842</td>\n",
       "    </tr>\n",
       "    <tr>\n",
       "      <th>D</th>\n",
       "      <td>-0.913114</td>\n",
       "      <td>-0.351394</td>\n",
       "      <td>1.472809</td>\n",
       "      <td>0.196057</td>\n",
       "      <td>0.520421</td>\n",
       "    </tr>\n",
       "    <tr>\n",
       "      <th>E</th>\n",
       "      <td>0.781207</td>\n",
       "      <td>1.260597</td>\n",
       "      <td>0.817766</td>\n",
       "      <td>-0.230986</td>\n",
       "      <td>0.753187</td>\n",
       "    </tr>\n",
       "    <tr>\n",
       "      <th>F</th>\n",
       "      <td>0.839282</td>\n",
       "      <td>-0.622273</td>\n",
       "      <td>1.396085</td>\n",
       "      <td>-0.373354</td>\n",
       "      <td>-0.915688</td>\n",
       "    </tr>\n",
       "  </tbody>\n",
       "</table>\n",
       "</div>"
      ],
      "text/plain": [
       "       col1      col2      col3      col4      col5\n",
       "A  0.256740  0.579655  0.480504  0.541105  2.378537\n",
       "B  1.931108 -0.159406 -0.381850 -1.186075 -0.132842\n",
       "D -0.913114 -0.351394  1.472809  0.196057  0.520421\n",
       "E  0.781207  1.260597  0.817766 -0.230986  0.753187\n",
       "F  0.839282 -0.622273  1.396085 -0.373354 -0.915688"
      ]
     },
     "execution_count": 19,
     "metadata": {},
     "output_type": "execute_result"
    }
   ],
   "source": [
    "#reindex rows and columns\n",
    "#create a data frame, 25 random number reshaped into a 5x5 array, set the index\n",
    "#and column names. \n",
    "dframe = DataFrame(randn(25).reshape((5,5)),index=['A','B','D','E','F'],\n",
    "                   columns=['col1','col2','col3','col4','col5'])\n",
    "\n",
    "dframe"
   ]
  },
  {
   "cell_type": "code",
   "execution_count": 21,
   "metadata": {
    "collapsed": false
   },
   "outputs": [
    {
     "data": {
      "text/html": [
       "<div>\n",
       "<table border=\"1\" class=\"dataframe\">\n",
       "  <thead>\n",
       "    <tr style=\"text-align: right;\">\n",
       "      <th></th>\n",
       "      <th>col1</th>\n",
       "      <th>col2</th>\n",
       "      <th>col3</th>\n",
       "      <th>col4</th>\n",
       "      <th>col5</th>\n",
       "    </tr>\n",
       "  </thead>\n",
       "  <tbody>\n",
       "    <tr>\n",
       "      <th>A</th>\n",
       "      <td>0.256740</td>\n",
       "      <td>0.579655</td>\n",
       "      <td>0.480504</td>\n",
       "      <td>0.541105</td>\n",
       "      <td>2.378537</td>\n",
       "    </tr>\n",
       "    <tr>\n",
       "      <th>B</th>\n",
       "      <td>1.931108</td>\n",
       "      <td>-0.159406</td>\n",
       "      <td>-0.381850</td>\n",
       "      <td>-1.186075</td>\n",
       "      <td>-0.132842</td>\n",
       "    </tr>\n",
       "    <tr>\n",
       "      <th>C</th>\n",
       "      <td>NaN</td>\n",
       "      <td>NaN</td>\n",
       "      <td>NaN</td>\n",
       "      <td>NaN</td>\n",
       "      <td>NaN</td>\n",
       "    </tr>\n",
       "    <tr>\n",
       "      <th>D</th>\n",
       "      <td>-0.913114</td>\n",
       "      <td>-0.351394</td>\n",
       "      <td>1.472809</td>\n",
       "      <td>0.196057</td>\n",
       "      <td>0.520421</td>\n",
       "    </tr>\n",
       "    <tr>\n",
       "      <th>E</th>\n",
       "      <td>0.781207</td>\n",
       "      <td>1.260597</td>\n",
       "      <td>0.817766</td>\n",
       "      <td>-0.230986</td>\n",
       "      <td>0.753187</td>\n",
       "    </tr>\n",
       "    <tr>\n",
       "      <th>F</th>\n",
       "      <td>0.839282</td>\n",
       "      <td>-0.622273</td>\n",
       "      <td>1.396085</td>\n",
       "      <td>-0.373354</td>\n",
       "      <td>-0.915688</td>\n",
       "    </tr>\n",
       "  </tbody>\n",
       "</table>\n",
       "</div>"
      ],
      "text/plain": [
       "       col1      col2      col3      col4      col5\n",
       "A  0.256740  0.579655  0.480504  0.541105  2.378537\n",
       "B  1.931108 -0.159406 -0.381850 -1.186075 -0.132842\n",
       "C       NaN       NaN       NaN       NaN       NaN\n",
       "D -0.913114 -0.351394  1.472809  0.196057  0.520421\n",
       "E  0.781207  1.260597  0.817766 -0.230986  0.753187\n",
       "F  0.839282 -0.622273  1.396085 -0.373354 -0.915688"
      ]
     },
     "execution_count": 21,
     "metadata": {},
     "output_type": "execute_result"
    }
   ],
   "source": [
    "dframe2 = dframe.reindex(['A','B','C','D','E','F'])\n",
    "\n",
    "dframe2"
   ]
  },
  {
   "cell_type": "code",
   "execution_count": 22,
   "metadata": {
    "collapsed": true
   },
   "outputs": [],
   "source": [
    "#reindex columns\n",
    "newColumns=['col1','col2','col3','col4','col5','col6']"
   ]
  },
  {
   "cell_type": "code",
   "execution_count": 23,
   "metadata": {
    "collapsed": false
   },
   "outputs": [
    {
     "data": {
      "text/html": [
       "<div>\n",
       "<table border=\"1\" class=\"dataframe\">\n",
       "  <thead>\n",
       "    <tr style=\"text-align: right;\">\n",
       "      <th></th>\n",
       "      <th>col1</th>\n",
       "      <th>col2</th>\n",
       "      <th>col3</th>\n",
       "      <th>col4</th>\n",
       "      <th>col5</th>\n",
       "      <th>col6</th>\n",
       "    </tr>\n",
       "  </thead>\n",
       "  <tbody>\n",
       "    <tr>\n",
       "      <th>A</th>\n",
       "      <td>0.256740</td>\n",
       "      <td>0.579655</td>\n",
       "      <td>0.480504</td>\n",
       "      <td>0.541105</td>\n",
       "      <td>2.378537</td>\n",
       "      <td>NaN</td>\n",
       "    </tr>\n",
       "    <tr>\n",
       "      <th>B</th>\n",
       "      <td>1.931108</td>\n",
       "      <td>-0.159406</td>\n",
       "      <td>-0.381850</td>\n",
       "      <td>-1.186075</td>\n",
       "      <td>-0.132842</td>\n",
       "      <td>NaN</td>\n",
       "    </tr>\n",
       "    <tr>\n",
       "      <th>C</th>\n",
       "      <td>NaN</td>\n",
       "      <td>NaN</td>\n",
       "      <td>NaN</td>\n",
       "      <td>NaN</td>\n",
       "      <td>NaN</td>\n",
       "      <td>NaN</td>\n",
       "    </tr>\n",
       "    <tr>\n",
       "      <th>D</th>\n",
       "      <td>-0.913114</td>\n",
       "      <td>-0.351394</td>\n",
       "      <td>1.472809</td>\n",
       "      <td>0.196057</td>\n",
       "      <td>0.520421</td>\n",
       "      <td>NaN</td>\n",
       "    </tr>\n",
       "    <tr>\n",
       "      <th>E</th>\n",
       "      <td>0.781207</td>\n",
       "      <td>1.260597</td>\n",
       "      <td>0.817766</td>\n",
       "      <td>-0.230986</td>\n",
       "      <td>0.753187</td>\n",
       "      <td>NaN</td>\n",
       "    </tr>\n",
       "    <tr>\n",
       "      <th>F</th>\n",
       "      <td>0.839282</td>\n",
       "      <td>-0.622273</td>\n",
       "      <td>1.396085</td>\n",
       "      <td>-0.373354</td>\n",
       "      <td>-0.915688</td>\n",
       "      <td>NaN</td>\n",
       "    </tr>\n",
       "  </tbody>\n",
       "</table>\n",
       "</div>"
      ],
      "text/plain": [
       "       col1      col2      col3      col4      col5  col6\n",
       "A  0.256740  0.579655  0.480504  0.541105  2.378537   NaN\n",
       "B  1.931108 -0.159406 -0.381850 -1.186075 -0.132842   NaN\n",
       "C       NaN       NaN       NaN       NaN       NaN   NaN\n",
       "D -0.913114 -0.351394  1.472809  0.196057  0.520421   NaN\n",
       "E  0.781207  1.260597  0.817766 -0.230986  0.753187   NaN\n",
       "F  0.839282 -0.622273  1.396085 -0.373354 -0.915688   NaN"
      ]
     },
     "execution_count": 23,
     "metadata": {},
     "output_type": "execute_result"
    }
   ],
   "source": [
    "dframe2.reindex(columns=newColumns)"
   ]
  },
  {
   "cell_type": "code",
   "execution_count": 24,
   "metadata": {
    "collapsed": false
   },
   "outputs": [
    {
     "data": {
      "text/html": [
       "<div>\n",
       "<table border=\"1\" class=\"dataframe\">\n",
       "  <thead>\n",
       "    <tr style=\"text-align: right;\">\n",
       "      <th></th>\n",
       "      <th>col1</th>\n",
       "      <th>col2</th>\n",
       "      <th>col3</th>\n",
       "      <th>col4</th>\n",
       "      <th>col5</th>\n",
       "    </tr>\n",
       "  </thead>\n",
       "  <tbody>\n",
       "    <tr>\n",
       "      <th>A</th>\n",
       "      <td>0.256740</td>\n",
       "      <td>0.579655</td>\n",
       "      <td>0.480504</td>\n",
       "      <td>0.541105</td>\n",
       "      <td>2.378537</td>\n",
       "    </tr>\n",
       "    <tr>\n",
       "      <th>B</th>\n",
       "      <td>1.931108</td>\n",
       "      <td>-0.159406</td>\n",
       "      <td>-0.381850</td>\n",
       "      <td>-1.186075</td>\n",
       "      <td>-0.132842</td>\n",
       "    </tr>\n",
       "    <tr>\n",
       "      <th>D</th>\n",
       "      <td>-0.913114</td>\n",
       "      <td>-0.351394</td>\n",
       "      <td>1.472809</td>\n",
       "      <td>0.196057</td>\n",
       "      <td>0.520421</td>\n",
       "    </tr>\n",
       "    <tr>\n",
       "      <th>E</th>\n",
       "      <td>0.781207</td>\n",
       "      <td>1.260597</td>\n",
       "      <td>0.817766</td>\n",
       "      <td>-0.230986</td>\n",
       "      <td>0.753187</td>\n",
       "    </tr>\n",
       "    <tr>\n",
       "      <th>F</th>\n",
       "      <td>0.839282</td>\n",
       "      <td>-0.622273</td>\n",
       "      <td>1.396085</td>\n",
       "      <td>-0.373354</td>\n",
       "      <td>-0.915688</td>\n",
       "    </tr>\n",
       "  </tbody>\n",
       "</table>\n",
       "</div>"
      ],
      "text/plain": [
       "       col1      col2      col3      col4      col5\n",
       "A  0.256740  0.579655  0.480504  0.541105  2.378537\n",
       "B  1.931108 -0.159406 -0.381850 -1.186075 -0.132842\n",
       "D -0.913114 -0.351394  1.472809  0.196057  0.520421\n",
       "E  0.781207  1.260597  0.817766 -0.230986  0.753187\n",
       "F  0.839282 -0.622273  1.396085 -0.373354 -0.915688"
      ]
     },
     "execution_count": 24,
     "metadata": {},
     "output_type": "execute_result"
    }
   ],
   "source": [
    "dframe"
   ]
  },
  {
   "cell_type": "code",
   "execution_count": 25,
   "metadata": {
    "collapsed": false
   },
   "outputs": [
    {
     "data": {
      "text/html": [
       "<div>\n",
       "<table border=\"1\" class=\"dataframe\">\n",
       "  <thead>\n",
       "    <tr style=\"text-align: right;\">\n",
       "      <th></th>\n",
       "      <th>col1</th>\n",
       "      <th>col2</th>\n",
       "      <th>col3</th>\n",
       "      <th>col4</th>\n",
       "      <th>col5</th>\n",
       "      <th>col6</th>\n",
       "    </tr>\n",
       "  </thead>\n",
       "  <tbody>\n",
       "    <tr>\n",
       "      <th>A</th>\n",
       "      <td>0.256740</td>\n",
       "      <td>0.579655</td>\n",
       "      <td>0.480504</td>\n",
       "      <td>0.541105</td>\n",
       "      <td>2.378537</td>\n",
       "      <td>NaN</td>\n",
       "    </tr>\n",
       "    <tr>\n",
       "      <th>B</th>\n",
       "      <td>1.931108</td>\n",
       "      <td>-0.159406</td>\n",
       "      <td>-0.381850</td>\n",
       "      <td>-1.186075</td>\n",
       "      <td>-0.132842</td>\n",
       "      <td>NaN</td>\n",
       "    </tr>\n",
       "    <tr>\n",
       "      <th>C</th>\n",
       "      <td>NaN</td>\n",
       "      <td>NaN</td>\n",
       "      <td>NaN</td>\n",
       "      <td>NaN</td>\n",
       "      <td>NaN</td>\n",
       "      <td>NaN</td>\n",
       "    </tr>\n",
       "    <tr>\n",
       "      <th>D</th>\n",
       "      <td>-0.913114</td>\n",
       "      <td>-0.351394</td>\n",
       "      <td>1.472809</td>\n",
       "      <td>0.196057</td>\n",
       "      <td>0.520421</td>\n",
       "      <td>NaN</td>\n",
       "    </tr>\n",
       "    <tr>\n",
       "      <th>E</th>\n",
       "      <td>0.781207</td>\n",
       "      <td>1.260597</td>\n",
       "      <td>0.817766</td>\n",
       "      <td>-0.230986</td>\n",
       "      <td>0.753187</td>\n",
       "      <td>NaN</td>\n",
       "    </tr>\n",
       "    <tr>\n",
       "      <th>F</th>\n",
       "      <td>0.839282</td>\n",
       "      <td>-0.622273</td>\n",
       "      <td>1.396085</td>\n",
       "      <td>-0.373354</td>\n",
       "      <td>-0.915688</td>\n",
       "      <td>NaN</td>\n",
       "    </tr>\n",
       "  </tbody>\n",
       "</table>\n",
       "</div>"
      ],
      "text/plain": [
       "       col1      col2      col3      col4      col5  col6\n",
       "A  0.256740  0.579655  0.480504  0.541105  2.378537   NaN\n",
       "B  1.931108 -0.159406 -0.381850 -1.186075 -0.132842   NaN\n",
       "C       NaN       NaN       NaN       NaN       NaN   NaN\n",
       "D -0.913114 -0.351394  1.472809  0.196057  0.520421   NaN\n",
       "E  0.781207  1.260597  0.817766 -0.230986  0.753187   NaN\n",
       "F  0.839282 -0.622273  1.396085 -0.373354 -0.915688   NaN"
      ]
     },
     "execution_count": 25,
     "metadata": {},
     "output_type": "execute_result"
    }
   ],
   "source": [
    "dframe.ix[['A','B','C','D','E','F',],newColumns]"
   ]
  }
 ],
 "metadata": {
  "kernelspec": {
   "display_name": "Python 2",
   "language": "python",
   "name": "python2"
  },
  "language_info": {
   "codemirror_mode": {
    "name": "ipython",
    "version": 2
   },
   "file_extension": ".py",
   "mimetype": "text/x-python",
   "name": "python",
   "nbconvert_exporter": "python",
   "pygments_lexer": "ipython2",
   "version": "2.7.10"
  }
 },
 "nbformat": 4,
 "nbformat_minor": 0
}
